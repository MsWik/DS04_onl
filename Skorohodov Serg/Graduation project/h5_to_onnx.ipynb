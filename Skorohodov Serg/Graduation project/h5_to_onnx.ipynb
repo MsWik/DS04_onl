{
 "cells": [
  {
   "cell_type": "code",
   "execution_count": 1,
   "metadata": {},
   "outputs": [],
   "source": [
    "import tensorflow as tf\n",
    "\n",
    "\n",
    "# import onnxruntime as ort\n",
    "import onnx\n",
    "import tf2onnx"
   ]
  },
  {
   "cell_type": "code",
   "execution_count": 2,
   "metadata": {},
   "outputs": [],
   "source": [
    "\n",
    "# Load the Keras model\n",
    "keras_model_path = \"EfficientNetV2B3_new_v2_2.h5\"\n",
    "keras_model = tf.keras.models.load_model(keras_model_path)\n",
    "\n",
    "# # Convert the Keras model to ONNX format\n",
    "# onnx_model, _ = tf2onnx.convert.from_keras(keras_model)\n",
    "\n",
    "# # Save the ONNX model to a file\n",
    "# onnx_model_path = \"MobileNet_2_3.onnx\"\n",
    "# tf2onnx.save_model(onnx_model, onnx_model_path)"
   ]
  },
  {
   "cell_type": "code",
   "execution_count": 3,
   "metadata": {},
   "outputs": [
    {
     "data": {
      "text/plain": [
       "[<keras.engine.functional.Functional at 0x1c22cd79d50>,\n",
       " <keras.layers.reshaping.flatten.Flatten at 0x1c243cb1bd0>,\n",
       " <keras.layers.core.dense.Dense at 0x1c263cf2f50>]"
      ]
     },
     "execution_count": 3,
     "metadata": {},
     "output_type": "execute_result"
    }
   ],
   "source": [
    "keras_model.layers"
   ]
  },
  {
   "cell_type": "code",
   "execution_count": 3,
   "metadata": {},
   "outputs": [],
   "source": [
    "onnx_model, _ = tf2onnx.convert.from_keras(\n",
    "                                            model=keras_model,\n",
    "                                            input_signature=[\n",
    "                                                tf.TensorSpec(shape=(None, 224, 224, 3), dtype=tf.float32, name=\"Input\")\n",
    "                                            ],\n",
    "                                        )"
   ]
  },
  {
   "cell_type": "code",
   "execution_count": 4,
   "metadata": {},
   "outputs": [],
   "source": [
    "onnx.save(onnx_model, \"EfficientNetV2B3_new_v2_2.onnx\")"
   ]
  }
 ],
 "metadata": {
  "kernelspec": {
   "display_name": "base",
   "language": "python",
   "name": "python3"
  },
  "language_info": {
   "codemirror_mode": {
    "name": "ipython",
    "version": 3
   },
   "file_extension": ".py",
   "mimetype": "text/x-python",
   "name": "python",
   "nbconvert_exporter": "python",
   "pygments_lexer": "ipython3",
   "version": "3.10.12"
  },
  "orig_nbformat": 4
 },
 "nbformat": 4,
 "nbformat_minor": 2
}
